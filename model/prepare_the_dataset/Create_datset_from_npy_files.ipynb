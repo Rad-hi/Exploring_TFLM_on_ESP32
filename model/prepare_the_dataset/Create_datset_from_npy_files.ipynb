{
 "cells": [
  {
   "cell_type": "markdown",
   "metadata": {},
   "source": [
    "# This file demonstrates how to load the custom dataset from disk to the TF model"
   ]
  },
  {
   "cell_type": "code",
   "execution_count": 1,
   "metadata": {},
   "outputs": [
    {
     "name": "stderr",
     "output_type": "stream",
     "text": [
      "2022-08-09 18:53:32.441319: W tensorflow/stream_executor/platform/default/dso_loader.cc:64] Could not load dynamic library 'libcudart.so.11.0'; dlerror: libcudart.so.11.0: cannot open shared object file: No such file or directory\n",
      "2022-08-09 18:53:32.441441: I tensorflow/stream_executor/cuda/cudart_stub.cc:29] Ignore above cudart dlerror if you do not have a GPU set up on your machine.\n"
     ]
    }
   ],
   "source": [
    "from wav_2_spectr_utils import *\n",
    "\n",
    "import tensorflow as tf\n",
    "import numpy as np\n",
    "import random"
   ]
  },
  {
   "cell_type": "code",
   "execution_count": 2,
   "metadata": {},
   "outputs": [],
   "source": [
    "# Ref: https://medium.com/analytics-vidhya/write-your-own-custom-data-generator-for-tensorflow-keras-1252b64e41c3\n",
    "class CustomDataGen(tf.keras.utils.Sequence):\n",
    "    \n",
    "    def __init__(self, files_list,\n",
    "                 output_classes,\n",
    "                 batch_size=32,\n",
    "                 input_size=(99, 43, 1),\n",
    "                 shuffle=True):\n",
    "        \n",
    "        self.output_classes = output_classes\n",
    "        self.files_list = files_list\n",
    "        self.batch_size = batch_size\n",
    "        self.input_size = input_size\n",
    "        self.shuffle = shuffle\n",
    "        \n",
    "        self.n = len(self.files_list)\n",
    "    \n",
    "\n",
    "    def on_epoch_end(self):\n",
    "        if self.shuffle:\n",
    "            random.shuffle(self.files_list)\n",
    "\n",
    "    def __get_data(self, file):\n",
    "        # data/yes/yes_0_3.npy --> ['yes', 'yes_0_3.npy'] --> 'yes'\n",
    "        y_str = file.split('/')[-2:][0]\n",
    "        y = self.output_classes.index(y_str)\n",
    "        return (np.load(file), y)\n",
    "    \n",
    "    def __getitem__(self, index):\n",
    "        X = []\n",
    "        y = []\n",
    "        for file in self.files_list[index : index+self.batch_size]:\n",
    "            spectr, label = self.__get_data(file)\n",
    "            X.append(spectr)\n",
    "            y.append(label)\n",
    "        \n",
    "        return (np.array(X), np.array(y))\n",
    "    \n",
    "    def __len__(self):\n",
    "        return self.n // self.batch_size"
   ]
  },
  {
   "cell_type": "code",
   "execution_count": 3,
   "metadata": {},
   "outputs": [],
   "source": [
    "CLASSES_DATASET_PATH = \"/home/Radhi/Desktop/TinyML_Book/voice-controlled-robot/model/speech_data_classes_npy\"\n",
    "model_classes = [\n",
    "    'yes',\n",
    "    'off',\n",
    "    'left',\n",
    "    'right',\n",
    "\n",
    "    # Keep the _invalid one always last\n",
    "    '_invalid',\n",
    "]"
   ]
  },
  {
   "cell_type": "code",
   "execution_count": 4,
   "metadata": {},
   "outputs": [
    {
     "name": "stdout",
     "output_type": "stream",
     "text": [
      "--- Collecting files ---\n"
     ]
    }
   ],
   "source": [
    "print(\"--- Collecting .npy files ---\")\n",
    "files_list = []\n",
    "for word in model_classes:\n",
    "    files_list = files_list + [file for file in get_spectr_files(CLASSES_DATASET_PATH, word)]"
   ]
  },
  {
   "cell_type": "code",
   "execution_count": 5,
   "metadata": {},
   "outputs": [],
   "source": [
    "traingen = CustomDataGen(files_list,\n",
    "                         model_classes,\n",
    "                         batch_size=32,\n",
    "                         input_size=(99, 43, 1))"
   ]
  },
  {
   "cell_type": "code",
   "execution_count": 10,
   "metadata": {},
   "outputs": [
    {
     "name": "stdout",
     "output_type": "stream",
     "text": [
      "(32, 99, 43, 1) (32,)\n"
     ]
    }
   ],
   "source": [
    "img, label = traingen[0]\n",
    "print(img.shape, label.shape)"
   ]
  }
 ],
 "metadata": {
  "kernelspec": {
   "display_name": "Python 3.9.2 64-bit",
   "language": "python",
   "name": "python3"
  },
  "language_info": {
   "codemirror_mode": {
    "name": "ipython",
    "version": 3
   },
   "file_extension": ".py",
   "mimetype": "text/x-python",
   "name": "python",
   "nbconvert_exporter": "python",
   "pygments_lexer": "ipython3",
   "version": "3.9.2"
  },
  "orig_nbformat": 4,
  "vscode": {
   "interpreter": {
    "hash": "916dbcbb3f70747c44a77c7bcd40155683ae19c65e1c03b4aa3499c5328201f1"
   }
  }
 },
 "nbformat": 4,
 "nbformat_minor": 2
}
